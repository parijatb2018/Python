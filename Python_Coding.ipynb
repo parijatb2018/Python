{
 "cells": [
  {
   "cell_type": "markdown",
   "metadata": {},
   "source": [
    "# Tic-Tac-Toe game(OOP)"
   ]
  },
  {
   "cell_type": "code",
   "execution_count": null,
   "metadata": {},
   "outputs": [],
   "source": [
    "class Board(object):\n",
    "    \n",
    "    board=[[0,0,0],[0,0,0],[0,0,0]]\n",
    "    \n",
    "    def __init__(self):\n",
    "        pass\n",
    "    \n",
    "    def sketch(self):\n",
    "        dic={0:'_',1:'X',4:'O'}\n",
    "        print(' _'*3)\n",
    "        for i in range(3):   \n",
    "            print(f'|{dic[Board.board[i][0]]}|{dic[Board.board[i][1]]}|{dic[Board.board[i][2]]}'+'|') \n",
    "        \n",
    "    def input_function(self):\n",
    "        try:\n",
    "            print('input row and col indices using a space in between')\n",
    "            a,b=list(map(lambda x:int(x), input().split(' ')))\n",
    "            return a,b\n",
    "        except ValueError:\n",
    "            print('input both row and col')\n",
    "            a,b=input_function()\n",
    "            return a,b\n",
    "    \n",
    "    def check_input(self,a,b,choice):  \n",
    "    \n",
    "        if a>3 or a<=0 or b<=0 or b>3:\n",
    "            print('Enter choices of row and column ,1<=choice<=3')\n",
    "            return False            \n",
    "        \n",
    "        if Board.board[a-1][b-1]==0:\n",
    "            Board.board[a-1][b-1]=choice\n",
    "            self.sketch()\n",
    "            return True\n",
    "        else:\n",
    "            print('The location is already filled. enter other (row col) location: ')\n",
    "            self.sketch()\n",
    "            return False\n",
    "\n",
    "    def game(self):\n",
    "        main_diagonal_sum=0 # main diagonal sum\n",
    "        cross_diagonal_sum=0 # cross diagonal sum\n",
    "        for i in range(3):\n",
    "            row_sum=0 # row sum\n",
    "            col_sum=0 # col sum\n",
    "            for j in range(3):\n",
    "                row_sum+=Board.board[i][j]\n",
    "                col_sum+=Board.board[j][i]\n",
    "                if i==j:\n",
    "                    main_diagonal_sum+=Board.board[i][j]\n",
    "                if (i==(2-j)) or (j==(2-i)):\n",
    "                    cross_diagonal_sum+=Board.board[i][j]\n",
    "\n",
    "            if (row_sum==3) or (col_sum==3):\n",
    "                return 1\n",
    "            elif (row_sum==12) or (col_sum==12):\n",
    "                return 2\n",
    "        if (main_diagonal_sum==3) or (cross_diagonal_sum==3):\n",
    "            return 1\n",
    "        elif (main_diagonal_sum==12) or (cross_diagonal_sum==12):\n",
    "            return 2\n",
    "        return 3       \n",
    "    \n",
    "if __name__=='__main__':\n",
    "\n",
    "    board=Board()\n",
    "    board.sketch()\n",
    "\n",
    "    count=1\n",
    "    while True:\n",
    "        flag1=False\n",
    "        flag2= False\n",
    "        print(f'\\nTurn: {count}')\n",
    "        \n",
    "        if count%2!=0:\n",
    "            print('Player1 choice(row col): ')\n",
    "            a,b=board.input_function()\n",
    "            flag1=board.check_input(a,b,choice=1)      \n",
    "\n",
    "\n",
    "        if count%2==0:\n",
    "            print('Player2 choice(row col): ')\n",
    "            a,b=board.input_function()\n",
    "            flag1=board.check_input(a,b,choice=4)\n",
    "\n",
    "        if flag1 or flag2: # counter won't increase if last input was erroneous            \n",
    "            result=board.game()            \n",
    "            if result==1 or result==2:\n",
    "                print(f'Congrats Player{result}! you have won:)')\n",
    "                break\n",
    "            elif result==3:\n",
    "                count+=1\n",
    "                if count==10:\n",
    "                    print('its a tie!')\n",
    "                    break \n"
   ]
  },
  {
   "cell_type": "markdown",
   "metadata": {},
   "source": [
    "# Hangman game"
   ]
  },
  {
   "cell_type": "code",
   "execution_count": null,
   "metadata": {},
   "outputs": [],
   "source": [
    "import random\n",
    "\n",
    "dic_list=[]\n",
    "with open('sowpods.txt','r') as f:\n",
    "    word=f.readline().strip('\\n').strip()\n",
    "    while word:\n",
    "        dic_list.append(word)\n",
    "        word=f.readline().strip('\\n').strip()\n",
    "\n",
    "choice=True\n",
    "while choice:\n",
    "    random_word=random.sample(dic_list,k=1)\n",
    "    random_word[0]\n",
    "    count=0\n",
    "    guessed_word=['_' for i in range(len(random_word[0]))]\n",
    "    print('Welcome to the HANGMAN: ' )\n",
    "    print('Guess The word: ')        \n",
    "    print(' '.join(guessed_word))  \n",
    "    while True:\n",
    "        print('bad count: ',count)      \n",
    "        guessed_letter= input('Guess a letter of the word: ').upper()\n",
    "        \n",
    "        if guessed_letter not in guessed_word:            \n",
    "        \n",
    "            if guessed_letter in random_word[0]:\n",
    "                for i,letter in enumerate(random_word[0]):\n",
    "                    if letter==guessed_letter:\n",
    "                        guessed_word[i]=letter\n",
    "\n",
    "                if ''.join(guessed_word)==random_word[0]:\n",
    "                    print('Cool! you guessed it:)')\n",
    "                    print(f'The word was: {random_word[0]}')\n",
    "                    break\n",
    "                else:\n",
    "                    print(' '.join(guessed_word))\n",
    "\n",
    "            else:\n",
    "                count+=1\n",
    "                print(' '.join(guessed_word))\n",
    "                if count==6:\n",
    "                    print('Game over...You are hanged')\n",
    "                    print(f'The word was: {random_word[0]}')\n",
    "                    break\n",
    "        else:\n",
    "            print(' '.join(guessed_word))\n",
    "            print(f\"Don't repeat the letter: {guessed_letter}\")\n",
    "\n",
    "    print('would you like to play another one, Yes/No?')\n",
    "    answer=input().upper()    \n",
    "    if answer=='NO' or answer=='N':        \n",
    "        choice=False\n",
    "        print('Good Bye :)')\n",
    "    "
   ]
  },
  {
   "cell_type": "markdown",
   "metadata": {},
   "source": [
    "# Cows And Bulls game\n",
    "\n",
    "The game works like this:\n",
    "\n",
    "Randomly generate a 4-digit number. Ask the user to guess a 4-digit number. For every digit that the user guessed correctly in the correct place, they have a “cow”. For every digit the user guessed correctly in the wrong place is a “bull.” Every time the user makes a guess, tell them how many “cows” and “bulls” they have. Once the user guesses the correct number, the game is over. Keep track of the number of guesses the user makes throughout teh game and tell the user at the end."
   ]
  },
  {
   "cell_type": "code",
   "execution_count": null,
   "metadata": {},
   "outputs": [],
   "source": [
    "import random\n",
    "random_list=list(range(0,10))\n",
    "random_list\n",
    "random_list=list(map(lambda x:str(x),random_list))\n",
    "random_list\n",
    "random_choice=random.sample(random_list,k=4)\n",
    "random_choice\n",
    "random_number=int(''.join(random_choice))\n",
    "random_number\n",
    "\n",
    "count=0\n",
    "\n",
    "while True:\n",
    "    guess=int(input('guess a 4-digit no:'))\n",
    "    \n",
    "    if guess==random_number:\n",
    "        print(f'Game over n count is:{count+1}')\n",
    "        break\n",
    "        \n",
    "    else:\n",
    "        \n",
    "        secrect=str(random_number)\n",
    "        guess=str(guess)\n",
    "        \n",
    "        cow=0\n",
    "        bull=0\n",
    "        for x in secrect:\n",
    "            if x in guess:\n",
    "                if secrect.index(x)==guess.index(x):\n",
    "                    cow+=1\n",
    "                elif secrect.index(x)!=guess.index(x):\n",
    "                    bull+=1\n",
    "        \n",
    "        print(f'cow:{cow}')\n",
    "        print(f'bull:{bull}')    \n",
    "    \n",
    "    count+=1\n",
    "        \n",
    "        "
   ]
  },
  {
   "cell_type": "markdown",
   "metadata": {},
   "source": [
    "# Algo: Computer plays Cows-n-Bulls with the user like a human and \n",
    "#           guesses numbers upto 9 digits "
   ]
  },
  {
   "cell_type": "code",
   "execution_count": null,
   "metadata": {},
   "outputs": [],
   "source": [
    "def cow_bull_count(secrect,guess):\n",
    "        cow=0\n",
    "        bull=0\n",
    "\n",
    "        for x in secrect:\n",
    "            if x in guess:\n",
    "                if secrect.index(x)==guess.index(x):\n",
    "                    cow+=1\n",
    "                elif secrect.index(x)!=guess.index(x):\n",
    "                    bull+=1\n",
    "        return cow, bull\n",
    "\n",
    "def cow_finder(guess,random_number,cow,bull):\n",
    "            global number_list,cow_index\n",
    "            for i, element in enumerate(guess):\n",
    "                if i not in cow_index:\n",
    "                    temp=[x for x in guess]                    \n",
    "                    for j in range(len(number_list)):\n",
    "                        if number_list[j] not in temp:                                 \n",
    "                            temp[i]=number_list[j]\n",
    "                            break                        \n",
    "                    temp_guess=''.join(temp)                                                                                                                                                                                                                                                                                                                                                                                                                                                                                                                                                                                                                                                                                                                                                                                                                                                                                                                                                                                                                                                                                                                                                                                                                                                                                                                                                                \n",
    "                    cow_new,bull_new=cow_bull_count(random_number,temp_guess)\n",
    "                    if (cow_new<cow):\n",
    "                        if bull_new==bull:\n",
    "                            number_list.pop(j)\n",
    "                            cow_index.append(i)                        \n",
    "                            break\n",
    "                        elif bull_new>bull:\n",
    "                            cow_index.append(i)                                                                                                                                                                                                                                                                                                                                                                                                                                                                                                                                                                                                                                                                                                                                                                                                                                                                                                                                                                                                                                                                                                                                                                                                                                                                                                                                                                                                                                                                                                                                                                                                                                                                                                                                                                                                                                                                                                                                                                                                                                                                                                                                                                                                                                                                                                                                                                                                                                                                                                                                                                                                                                                                                                                                                                                                                                                                                                                                                                                                                                                                                                                                                                                                                                                                                                                                                                                                                                                                                                                                                                                                                                                                                                                                                                                                                                                                                                                                                                                                                                                                                                                                                                                                                                                                                                                                                                                                                          \n",
    "                            break\n",
    "\n",
    "def bull_to_cow_converter(guess,random_number,cow,bull):\n",
    "    global cow_index\n",
    "    for i in range(len(guess)):\n",
    "        if i not in cow_index:            \n",
    "            for j in range(len(guess)):\n",
    "                if j not in cow_index and j!=i:\n",
    "                    temp=[x for x in guess]\n",
    "                    swap=temp[j]\n",
    "                    temp[j]=temp[i]\n",
    "                    temp[i]=swap\n",
    "                    temp_guess=''.join(temp)\n",
    "                    cow_new,bull_new=cow_bull_count(random_number,temp_guess)                    \n",
    "                    if (cow_new>cow):                        \n",
    "                            cow=cow_new\n",
    "                            bull=bull_new\n",
    "                            cow_finder(temp_guess,random_number,cow,bull)\n",
    "                            return temp_guess\n",
    "                        \n",
    "def finding_missing_numbers(guess,random_number,cow,bull):\n",
    "            global number_list,cow_index           \n",
    "            for i, element in enumerate(guess):\n",
    "                if i not in cow_index:\n",
    "                    temp=[x for x in guess]                    \n",
    "                    for j in range(len(number_list)):\n",
    "                        if number_list[j] not in temp:                                 \n",
    "                            temp[i]=number_list[j]\n",
    "                            break                        \n",
    "                    temp_guess=''.join(temp)  \n",
    "                    cow_new,bull_new=cow_bull_count(random_number,temp_guess)\n",
    "                    if (cow_new>cow):                     \n",
    "                            number_list.pop(0)\n",
    "                            cow_index.append(i)\n",
    "                            return temp_guess\n",
    "                    elif bull_new>bull:\n",
    "                        temp_guess= bull_to_cow_converter(temp_guess,random_number,cow_new,bull_new)\n",
    "                        return temp_guess\n",
    "                    else:\n",
    "                        number_list.pop(0)\n",
    "                        return guess\n",
    "                    \n",
    "if __name__=='__main__':\n",
    "    \n",
    "    import time\n",
    "    import random\n",
    "    tick=time.time()\n",
    "    number_list=list(map(lambda x:str(x),range(0,10)))\n",
    "    number_list\n",
    "\n",
    "    random_number=input('Decide any random numbere of 1-9 digit long:')\n",
    "    digit=len(random_number)\n",
    "    print(f'Computer has to guess a {digit} digit random number:{random_number}')\n",
    "\n",
    "    guess_pick=random.sample(number_list,k=digit)\n",
    "    guess=''.join(guess_pick)\n",
    "    print(f'Computer starts with the first guess:{guess}')\n",
    "\n",
    "    cow, bull= cow_bull_count(random_number,guess)\n",
    "    cow_index=[]\n",
    "\n",
    "    if cow!=0:\n",
    "        while len(cow_index)!=cow:\n",
    "            cow_finder(guess,random_number,cow,bull)\n",
    "\n",
    "    if bull!=0:\n",
    "        while bull!=0:\n",
    "            guess=bull_to_cow_converter(guess,random_number,cow,bull)\n",
    "            cow,bull=cow_bull_count(random_number,guess)\n",
    "\n",
    "    while cow!=digit:\n",
    "        guess=finding_missing_numbers(guess,random_number,cow,bull)\n",
    "        cow,bull=cow_bull_count(random_number,guess)\n",
    "        if cow==digit:\n",
    "            print('final no:',guess)\n",
    "\n",
    "    tock=time.time()\n",
    "    elpst=tock-tick\n",
    "    print('elpst:',elpst)\n",
    "        "
   ]
  },
  {
   "cell_type": "markdown",
   "metadata": {},
   "source": [
    "# Rock-Paper-Scissors game\n",
    "Make a two-player Rock-Paper-Scissors game.\n",
    "\n",
    "Rules:\n",
    "\n",
    "Rock beats scissors/\n",
    "/Scissors beats paper\n",
    "/Paper beats rock"
   ]
  },
  {
   "cell_type": "code",
   "execution_count": null,
   "metadata": {},
   "outputs": [],
   "source": [
    "def input_verification(player_name):    \n",
    "    while True:\n",
    "        choice_list=['rock','paper','scissor']\n",
    "        \n",
    "        player=input(f'{player_name}->rock/paper/scissor:').lower()\n",
    "               \n",
    "        if player not in choice_list:\n",
    "            print(f'\\n{player_name}> enter either rock/paper/scissor')        \n",
    "        else:\n",
    "            return player\n",
    "        \n",
    "def game(player1,player2):\n",
    "    print('\\n')\n",
    "    if player1=='rock' and player2=='scissor':\n",
    "        print('player1 wins!')\n",
    "    elif player1=='scissor' and player2=='paper':\n",
    "        print('player1 wins!')\n",
    "    elif player1=='paper' and player2=='rock':\n",
    "        print('player1 wins!')\n",
    "    elif player1==player2:\n",
    "        print(\"It's a tie\")\n",
    "    else:\n",
    "        print('player2 wins!')\n",
    "    \n",
    "if __name__ == '__main__':\n",
    "    while True:   \n",
    "        player1=input_verification('player1')\n",
    "        print('player1:',player1)\n",
    "        player2=input_verification('player2')\n",
    "        print('player2:',player2)\n",
    "\n",
    "        game(player1,player2)\n",
    "\n",
    "        choice = input('want to play again:<y/n>').lower()\n",
    "        print(choice)\n",
    "        repeat= True if choice in ['y' , 'yes'] else False    \n",
    "        print(repeat)\n",
    "\n",
    "        if not repeat:\n",
    "            break\n",
    "    \n",
    "    "
   ]
  },
  {
   "cell_type": "markdown",
   "metadata": {},
   "source": [
    "# Fibonnaci Seqence\n"
   ]
  },
  {
   "cell_type": "code",
   "execution_count": null,
   "metadata": {},
   "outputs": [],
   "source": [
    "def fibonacci(size,first=1,second=2):\n",
    "    fib=[first,second]\n",
    "    \n",
    "    for i in range(2,size):\n",
    "        number=first+second\n",
    "        fib.append(number)\n",
    "        first=second\n",
    "        second=number\n",
    "    return fib"
   ]
  },
  {
   "cell_type": "code",
   "execution_count": null,
   "metadata": {},
   "outputs": [],
   "source": [
    "size=int(input('fib series size:'))"
   ]
  },
  {
   "cell_type": "code",
   "execution_count": null,
   "metadata": {},
   "outputs": [],
   "source": [
    "series=fibonacci(size)\n",
    "series"
   ]
  },
  {
   "cell_type": "code",
   "execution_count": null,
   "metadata": {},
   "outputs": [],
   "source": [
    "series2=fibonacci(first=1,second=5,size=5) # order doesn't matter when arg names are mentioned\n",
    "series2"
   ]
  },
  {
   "cell_type": "code",
   "execution_count": null,
   "metadata": {},
   "outputs": [],
   "source": [
    "# advanced version using **kwargs"
   ]
  },
  {
   "cell_type": "code",
   "execution_count": null,
   "metadata": {},
   "outputs": [],
   "source": [
    "def fibonacci(**prams): # with ** args, prams come as dictionary. with * args,  it comes as tuple\n",
    "    \n",
    "    fib=[prams['first'],prams['second']]\n",
    "    \n",
    "    for i in range(2,prams['size']):\n",
    "        number=fib[i-2]+fib[i-1]\n",
    "        fib.append(number)\n",
    "\n",
    "    return fib"
   ]
  },
  {
   "cell_type": "code",
   "execution_count": null,
   "metadata": {},
   "outputs": [],
   "source": [
    "first=int(input('first:'))"
   ]
  },
  {
   "cell_type": "code",
   "execution_count": null,
   "metadata": {},
   "outputs": [],
   "source": [
    "second=int(input('second:'))"
   ]
  },
  {
   "cell_type": "code",
   "execution_count": null,
   "metadata": {},
   "outputs": [],
   "source": [
    "size=int(input('size:'))"
   ]
  },
  {
   "cell_type": "code",
   "execution_count": null,
   "metadata": {},
   "outputs": [],
   "source": [
    "fib_series=fibonacci(first=first,second=second,size=size)\n",
    "fib_series"
   ]
  },
  {
   "cell_type": "markdown",
   "metadata": {},
   "source": [
    "# Password Generator    \n"
   ]
  },
  {
   "cell_type": "code",
   "execution_count": null,
   "metadata": {},
   "outputs": [],
   "source": [
    "import random"
   ]
  },
  {
   "cell_type": "code",
   "execution_count": null,
   "metadata": {},
   "outputs": [],
   "source": [
    "lowercase=list(map(chr, range(97, 123))) \n",
    "type(lowercase)"
   ]
  },
  {
   "cell_type": "code",
   "execution_count": null,
   "metadata": {},
   "outputs": [],
   "source": [
    "uppercase=list(map(lambda x: x.upper(),lowercase))\n",
    "type(uppercase)"
   ]
  },
  {
   "cell_type": "code",
   "execution_count": null,
   "metadata": {},
   "outputs": [],
   "source": [
    "#list2"
   ]
  },
  {
   "cell_type": "code",
   "execution_count": null,
   "metadata": {},
   "outputs": [],
   "source": [
    "symbols=['@','!','$','*','^']"
   ]
  },
  {
   "cell_type": "code",
   "execution_count": null,
   "metadata": {},
   "outputs": [],
   "source": [
    "numbers=list(range(0,10))\n",
    "numbers=list(map(lambda x :str(x),numbers))\n",
    "numbers"
   ]
  },
  {
   "cell_type": "code",
   "execution_count": null,
   "metadata": {},
   "outputs": [],
   "source": [
    "password=[random.choices(uppercase,k=1),random.choices(numbers,k=3),random.choices(symbols,k=1),random.choices(lowercase,k=5)]\n",
    "password"
   ]
  },
  {
   "cell_type": "code",
   "execution_count": null,
   "metadata": {},
   "outputs": [],
   "source": [
    "password2=''.join([''.join(x) for x in password])\n",
    "password2"
   ]
  },
  {
   "cell_type": "code",
   "execution_count": null,
   "metadata": {},
   "outputs": [],
   "source": [
    "password3=''.join(list(map(lambda x: ''.join(x),password)))\n",
    "password3"
   ]
  },
  {
   "cell_type": "code",
   "execution_count": null,
   "metadata": {},
   "outputs": [],
   "source": [
    "pswdstr=''\n",
    "for element in password:\n",
    "    pswdstr+=''.join(element)\n",
    "\n",
    "password=pswdstr\n",
    "password"
   ]
  },
  {
   "cell_type": "markdown",
   "metadata": {},
   "source": [
    "# Web Scraping\n",
    "Scraping all the article titles on the New York Times homepage."
   ]
  },
  {
   "cell_type": "code",
   "execution_count": null,
   "metadata": {},
   "outputs": [],
   "source": [
    "import requests\n",
    "from bs4 import BeautifulSoup"
   ]
  },
  {
   "cell_type": "code",
   "execution_count": null,
   "metadata": {},
   "outputs": [],
   "source": [
    "response = requests.get('https://www.nytimes.com/')"
   ]
  },
  {
   "cell_type": "code",
   "execution_count": null,
   "metadata": {},
   "outputs": [],
   "source": [
    "soup=BeautifulSoup(response.text,'html.parser')"
   ]
  },
  {
   "cell_type": "code",
   "execution_count": null,
   "metadata": {},
   "outputs": [],
   "source": [
    "headings = soup.find('main').find_all('h2')\n",
    "headlines = [heading.get_text() for heading in headings]\n",
    "headlines"
   ]
  },
  {
   "cell_type": "code",
   "execution_count": null,
   "metadata": {},
   "outputs": [],
   "source": [
    "len(result)"
   ]
  },
  {
   "cell_type": "markdown",
   "metadata": {},
   "source": [
    "# Saving Scrapped contents to a file\n"
   ]
  },
  {
   "cell_type": "code",
   "execution_count": null,
   "metadata": {},
   "outputs": [],
   "source": [
    "filename=input('filename:')"
   ]
  },
  {
   "cell_type": "code",
   "execution_count": null,
   "metadata": {},
   "outputs": [],
   "source": [
    "with open(filename,'w') as f:\n",
    "    for headline in headlines:\n",
    "        f.write(headline)\n",
    "        f.write('\\n')"
   ]
  },
  {
   "cell_type": "markdown",
   "metadata": {},
   "source": [
    "# Conten Scraping\n",
    " Put the full content of the article on this website to a file: http://www.vanityfair.com/society/2014/06/monica-lewinsky-humiliation-culture."
   ]
  },
  {
   "cell_type": "code",
   "execution_count": null,
   "metadata": {},
   "outputs": [],
   "source": [
    "import requests\n",
    "from bs4 import BeautifulSoup"
   ]
  },
  {
   "cell_type": "code",
   "execution_count": null,
   "metadata": {},
   "outputs": [],
   "source": [
    "response = requests.get('http://www.vanityfair.com/society/2014/06/monica-lewinsky-humiliation-culture')\n",
    "soup=BeautifulSoup(response.text,'html.parser')"
   ]
  },
  {
   "cell_type": "code",
   "execution_count": null,
   "metadata": {},
   "outputs": [],
   "source": [
    "date = soup.select('div.rubric.content-header__rubric.content-header__rubric--issue-date')\n",
    "with open('monika.doc','w') as f:\n",
    "#     f.seek(0)\n",
    "    f.write('\\t'*10)\n",
    "    f.write(date[0].text)\n",
    "    f.write('\\n\\n')"
   ]
  },
  {
   "cell_type": "code",
   "execution_count": null,
   "metadata": {},
   "outputs": [],
   "source": [
    "heading = soup.find(class_=\"content-header__row content-header__hed\").get_text()\n",
    "heading"
   ]
  },
  {
   "cell_type": "code",
   "execution_count": null,
   "metadata": {},
   "outputs": [],
   "source": [
    "with open('monika.doc','a') as f:\n",
    "    f.write(heading)\n",
    "    f.write('\\n\\n')"
   ]
  },
  {
   "cell_type": "code",
   "execution_count": null,
   "metadata": {},
   "outputs": [],
   "source": [
    "heading_text=soup.find(class_=\"content-header__row content-header__dek\").get_text()\n",
    "heading_text"
   ]
  },
  {
   "cell_type": "code",
   "execution_count": null,
   "metadata": {},
   "outputs": [],
   "source": [
    "with open('monika.doc','a') as f:\n",
    "    f.write(heading_text)\n",
    "    f.write('\\n\\n')"
   ]
  },
  {
   "cell_type": "code",
   "execution_count": null,
   "metadata": {},
   "outputs": [],
   "source": [
    "\n",
    "paragraphs=soup.find(class_=\"content-background\").find_all('p')\n",
    "\n",
    "for paragraph in paragraphs:\n",
    "    print(paragraph.get_text()+'\\n')"
   ]
  },
  {
   "cell_type": "code",
   "execution_count": null,
   "metadata": {},
   "outputs": [],
   "source": [
    "with open('monika.doc','a') as f:\n",
    "    for paragraph in paragraphs:\n",
    "        f.write(paragraph.get_text())\n",
    "        f.write('\\n\\n')"
   ]
  },
  {
   "cell_type": "markdown",
   "metadata": {},
   "source": [
    "# Log Parsing\n",
    "Given a .txt file that has a list of a bunch of names, count how many of each name there are in the file, and print out the results to the screen. I have a .txt file for you, if you want to use it!\n",
    "\n",
    "Extra:\n",
    "\n",
    "Instead of using the .txt file from above (or instead of, if you want the challenge), take this .txt file, and count how many of each “category” of each image there are. This text file is actually a list of files corresponding to the SUN database scene recognition database, and lists the file directory hierarchy for the images. Once you take a look at the first line or two of the file, it will be clear which part represents the scene category. To do this, you’re going to have to remember a bit about string parsing in Python 3. I talked a little bit about it in this post."
   ]
  },
  {
   "cell_type": "code",
   "execution_count": null,
   "metadata": {},
   "outputs": [],
   "source": [
    "dic={}\n",
    "with open ('Training.txt','r') as f:\n",
    "    line=f.readline()\n",
    "#     print(line)\n",
    "    while line:\n",
    "        parts=line.split('/')\n",
    "#         print(parts)\n",
    "        if len(parts)==4:\n",
    "            if parts[2] in dic:\n",
    "                dic[parts[2]]+=1\n",
    "            else:\n",
    "                dic[parts[2]]=1\n",
    "        elif len(parts)==5:\n",
    "            long_parts='/'.join([parts[2],parts[3]])            \n",
    "            if long_parts in dic:\n",
    "                dic[long_parts]+=1\n",
    "            else:\n",
    "                dic[long_parts]=1\n",
    "        line=f.readline()\n",
    "            "
   ]
  },
  {
   "cell_type": "code",
   "execution_count": null,
   "metadata": {},
   "outputs": [],
   "source": [
    "len(dic) "
   ]
  },
  {
   "cell_type": "code",
   "execution_count": null,
   "metadata": {},
   "outputs": [],
   "source": [
    "#dic"
   ]
  }
 ],
 "metadata": {
  "kernelspec": {
   "display_name": "Python 3",
   "language": "python",
   "name": "python3"
  },
  "language_info": {
   "codemirror_mode": {
    "name": "ipython",
    "version": 3
   },
   "file_extension": ".py",
   "mimetype": "text/x-python",
   "name": "python",
   "nbconvert_exporter": "python",
   "pygments_lexer": "ipython3",
   "version": "3.6.5"
  }
 },
 "nbformat": 4,
 "nbformat_minor": 2
}
